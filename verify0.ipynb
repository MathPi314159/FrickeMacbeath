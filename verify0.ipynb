{
 "cells": [
  {
   "cell_type": "code",
   "execution_count": 1,
   "metadata": {},
   "outputs": [
    {
     "name": "stdout",
     "output_type": "stream",
     "text": [
      "Defining x0, x1, x2\n",
      "\n",
      "Orders of the generators of G:\n",
      "2\n",
      "3\n",
      "7\n",
      "\n",
      "The genus of the corresponding surface is 7\n",
      "\n",
      "GAP recognizes the group G as PSL(2,8)\n"
     ]
    }
   ],
   "source": [
    "##########################################################################################################\n",
    "# -----------------------------------------------------------------\n",
    "#  Constants\n",
    "# -----------------------------------------------------------------\n",
    "##########################################################################################################\n",
    "\n",
    "# The parameters that determine a triangle group\n",
    "p=2\n",
    "q=3\n",
    "r=7\n",
    "\n",
    "##########################################################################################################\n",
    "# -----------------------------------------------------------------\n",
    "#  Group theory input\n",
    "# -----------------------------------------------------------------\n",
    "##########################################################################################################\n",
    "\n",
    "# The Deck group of the surface\n",
    "# - A free group of rank 3:\n",
    "F = FreeGroup(3)\n",
    "F.inject_variables()\n",
    "\n",
    "# - Deck group\n",
    "#   Its presentation was found by M. Conder and is available at: \n",
    "#   https://www.math.auckland.ac.nz/~conder/TriangleGroupQuotients101.txt\n",
    "#   The group appears as T17.1 in Conder's list\n",
    "G = F / (x0^2, x1^3, x0 * x1 * x2, x2^-3 * x0 * x1 * x2^-3, x1 * x2^-1 * x0 * x2 * x1 * x2^-1 * x0 * x2^2 * x1 * x2^-2 * x1 * x2^-2 * x0 * x2^2)\n",
    "\n",
    "# - The list of characters of G:\n",
    "characters = G.gap().Irr()\n",
    "\n",
    "# - Printing the orders of the generators in the group G. If these are p, q and r respectively,\n",
    "#    then this implies the corresponding subgroup of T(p,q,r) has no torsion\n",
    "print(\"\\nOrders of the generators of G:\")\n",
    "print(G(x0).order())\n",
    "print(G(x1).order())\n",
    "print(G(x2).order())\n",
    "\n",
    "# - Printing the genus\n",
    "genus = 1 + (1-1/p-1/q-1/r)*G.order()/2\n",
    "print(\"\\nThe genus of the corresponding surface is\", genus)\n",
    "\n",
    "print(\"\\nGAP recognizes the group G as\",G.gap().StructureDescription())"
   ]
  },
  {
   "cell_type": "code",
   "execution_count": 2,
   "metadata": {},
   "outputs": [
    {
     "data": {
      "text/plain": [
       "[True, True, True, True, True, True, True, True, True]"
      ]
     },
     "execution_count": 2,
     "metadata": {},
     "output_type": "execute_result"
    }
   ],
   "source": [
    "# - Determine which complex representations associated to the characters \n",
    "#   can be realized as a real representation and which can't.\n",
    "#   This computation is based on Proposition 39 (p. 109) in:\n",
    "#   \"Linear Representations of Finite Groups\" by J.-P. Serre (1977)\n",
    "#   This computation is in a separate cell because it takes a lot of time.\n",
    "is_real = []\n",
    "for m in range(len(characters)):\n",
    "    phi = characters[m]\n",
    "    S = 0\n",
    "    for g in G.gap().List():    \n",
    "        S += (g^2)^phi\n",
    "    \n",
    "    # If S > 0, then the complex representation can be realized as a real representation\n",
    "    # whose character equals the complex character\n",
    "    if S > 0:\n",
    "        is_real += [True]\n",
    "    # If not, the complex representation gives rise to an irreducible real representation\n",
    "    # whose character equals twice the real part of the complex character\n",
    "    else :\n",
    "        is_real += [False]\n",
    "is_real"
   ]
  },
  {
   "cell_type": "code",
   "execution_count": 3,
   "metadata": {},
   "outputs": [
    {
     "data": {
      "text/plain": [
       "[ Character( CharacterTable( PSL(2,8) ), [ 1, 1, 1, 1, 1, 1, 1, 1, 1 ] ), Character( CharacterTable( PSL(2,8) ), [ 7, 0, 0, 0, -1, -2, 1, 1, 1 ] ), Character( CharacterTable( PSL(2,8) ), [ 7, 0, 0, 0, -1, 1, -E(9)^4-E(9)^5, -E(9)^2-E(9)^7, E(9)^2+E(9)^4+E(9)^5+E(9)^7 ] ), Character( CharacterTable( PSL(2,8) ), [ 7, 0, 0, 0, -1, 1, -E(9)^2-E(9)^7, E(9)^2+E(9)^4+E(9)^5+E(9)^7, -E(9)^4-E(9)^5 ] ), Character( CharacterTable( PSL(2,8) ), [ 7, 0, 0, 0, -1, 1, E(9)^2+E(9)^4+E(9)^5+E(9)^7, -E(9)^4-E(9)^5, -E(9)^2-E(9)^7 ] ), Character( CharacterTable( PSL(2,8) ), [ 8, 1, 1, 1, 0, -1, -1, -1, -1 ] ), Character( CharacterTable( PSL(2,8) ), [ 9, E(7)^3+E(7)^4, E(7)^2+E(7)^5, E(7)+E(7)^6, 1, 0, 0, 0, 0 ] ), Character( CharacterTable( PSL(2,8) ), [ 9, E(7)^2+E(7)^5, E(7)+E(7)^6, E(7)^3+E(7)^4, 1, 0, 0, 0, 0 ] ), Character( CharacterTable( PSL(2,8) ), [ 9, E(7)+E(7)^6, E(7)^3+E(7)^4, E(7)^2+E(7)^5, 1, 0, 0, 0, 0 ] ) ]"
      ]
     },
     "execution_count": 3,
     "metadata": {},
     "output_type": "execute_result"
    }
   ],
   "source": [
    "characters"
   ]
  },
  {
   "cell_type": "code",
   "execution_count": null,
   "metadata": {},
   "outputs": [],
   "source": []
  }
 ],
 "metadata": {
  "kernelspec": {
   "display_name": "SageMath 9.3",
   "language": "sage",
   "name": "sagemath"
  },
  "language_info": {
   "codemirror_mode": {
    "name": "ipython",
    "version": 3
   },
   "file_extension": ".py",
   "mimetype": "text/x-python",
   "name": "python",
   "nbconvert_exporter": "python",
   "pygments_lexer": "ipython3",
   "version": "3.7.10"
  }
 },
 "nbformat": 4,
 "nbformat_minor": 4
}
